{
 "cells": [
  {
   "cell_type": "markdown",
   "id": "a00ef9a4",
   "metadata": {},
   "source": [
    "# Code breakdown (por melhorar)"
   ]
  },
  {
   "cell_type": "markdown",
   "id": "becd74d0",
   "metadata": {},
   "source": [
    "A implementação deste projeto é fortemente dependente das bibliotecas \"astropy\" e \"numpy\". Recorrendo a estas de forma a poder aceder e manipular ficheiros fits e facilitar a execução de cálculos de matrizes, respetivamente.\n",
    "\n",
    "As bibliotecas \"os\" e \"sys\", \"matplotlib.pyplot\" e \"glob\" são bibliotecas auxiliares. "
   ]
  },
  {
   "cell_type": "code",
   "execution_count": 2,
   "id": "073fcfe8",
   "metadata": {},
   "outputs": [],
   "source": [
    "from astropy.io import fits\n",
    "import numpy as np\n",
    "import matplotlib.pyplot as plt\n",
    "from os.path import exists\n",
    "import sys\n",
    "import glob"
   ]
  },
  {
   "cell_type": "markdown",
   "id": "d4342fd9",
   "metadata": {},
   "source": []
  },
  {
   "cell_type": "markdown",
   "id": "cfe57655",
   "metadata": {},
   "source": [
    "A função \"name_gen\" é utilizada para gerar um nome único para um novo ficheiro a ser gerado."
   ]
  },
  {
   "cell_type": "code",
   "execution_count": 6,
   "id": "49ac23ac",
   "metadata": {},
   "outputs": [],
   "source": [
    "def name_gen(file_name):\n",
    "    i=0\n",
    "    check_name = file_name\n",
    "    while exists(check_name):\n",
    "        i+=1\n",
    "        check_name = file_name[:-5]+\"_new\"+str(i)+\".fits\"\n",
    "    print(f\"Novo ficheiro gerado: {check_name}\")\n",
    "    return check_name"
   ]
  },
  {
   "cell_type": "code",
   "execution_count": 7,
   "id": "6ec9ea6b",
   "metadata": {
    "scrolled": true
   },
   "outputs": [
    {
     "name": "stdout",
     "output_type": "stream",
     "text": [
      "Novo ficheiro gerado: rascunho_new1.fits\n"
     ]
    },
    {
     "data": {
      "text/plain": [
       "'rascunho_new1.fits'"
      ]
     },
     "execution_count": 7,
     "metadata": {},
     "output_type": "execute_result"
    }
   ],
   "source": [
    "name_gen(\"rascunho.fits\")"
   ]
  },
  {
   "cell_type": "markdown",
   "id": "d19e5bf4",
   "metadata": {},
   "source": []
  },
  {
   "cell_type": "markdown",
   "id": "adcbefc6",
   "metadata": {},
   "source": [
    "A seguinte função é crítica para o funcionamento do programa, servindo como função auxiliar da função principal \"remove_hotpixels\".\n",
    "\n",
    "A função \"argwhere\" da biblioteca \"numpy\" cria uma lol (list of lists) que contem as coordenadas de todos os elementos de um lista/lol que respeitam uma determinada condição. Neste caso, argwhere retorna uma lol com as coordenadas de todos os elementos da matriz de dados de uma HDU com valor superior a limit.\n",
    "\n",
    "No contexto deste programa esta função tem como objetivo mapear os pixeis quentes (dai o seu nome) numa imagem fits."
   ]
  },
  {
   "cell_type": "code",
   "execution_count": null,
   "id": "3cd0179d",
   "metadata": {},
   "outputs": [],
   "source": [
    "def get_hotpixels(hdul, limit):\n",
    "    data = hdul[\"PRIMARY\"].data\n",
    "    return np.argwhere(data >= limit)"
   ]
  },
  {
   "cell_type": "code",
   "execution_count": 3,
   "id": "2dcbc2ff",
   "metadata": {},
   "outputs": [
    {
     "name": "stdout",
     "output_type": "stream",
     "text": [
      "Coordenadas dos pontos quentes:\n",
      "[[0 1]\n",
      " [0 3]\n",
      " [0 4]\n",
      " [2 0]]\n",
      "\n",
      "\n",
      "Valores dos pontos quentes:\n",
      "5\n",
      "6\n",
      "11\n",
      "19\n"
     ]
    }
   ],
   "source": [
    "#EXEMPLO\n",
    "data = [[1,5,3,6,11],\n",
    "        [2,4,2,3,3],\n",
    "        [19,0,-3, 4,4]]\n",
    "data = np.array(data)\n",
    "\n",
    "coords = np.argwhere(data >= 5)\n",
    "print(\"Coordenadas dos pontos quentes:\")\n",
    "print(coords)\n",
    "print(\"\\n\")\n",
    "print(\"Valores dos pontos quentes:\")\n",
    "for i,j in coords:\n",
    "    print(data[i][j])"
   ]
  },
  {
   "cell_type": "markdown",
   "id": "42272f66",
   "metadata": {},
   "source": []
  },
  {
   "cell_type": "markdown",
   "id": "9fd93d46",
   "metadata": {},
   "source": [
    "A função \"remove_hotpixels\" é responsável por trocar o valor dos pixeis quentes pela mediana dos valores vizinhos.\n",
    "De maneira a alcançar este objetivo ela utiliza os resultados obtidos pela função auxiliar \"get_hotpixels\".\n",
    "Com a nova lol é criado um novo ficheiro fits onde os pontos quentes mapeados foram alterados."
   ]
  },
  {
   "cell_type": "code",
   "execution_count": null,
   "id": "75995521",
   "metadata": {},
   "outputs": [],
   "source": [
    "def remove_hotpixels(hdu, hot_pixels, raio=1):\n",
    "    a = np.copy(hdu[\"PRIMARY\"].data)\n",
    "    x_res,y_res = a.shape\n",
    "    for k in hot_pixels:\n",
    "        line = k[0]\n",
    "        collumn = k[1]\n",
    "        vizinhos = []\n",
    "        for i in range(-raio, raio+1):\n",
    "            for j in range(-raio, raio+1):\n",
    "                    if ((line+i>=0 and collumn+j>=0 and line+i<x_res and collumn+j<y_res) and (not(i==0 and j==0))):\n",
    "                        vizinhos.append(a[line+i][collumn+j])\n",
    "\n",
    "        vizinhos = np.array(vizinhos)\n",
    "        mediana = np.median(vizinhos)\n",
    "\n",
    "        a[line][collumn] = mediana\n",
    "\n",
    "    file_name = hdu.filename()\n",
    "    new_name = name_gen(file_name)\n",
    "\n",
    "    try:\n",
    "        hdul = fits.PrimaryHDU(a)\n",
    "        hdul.writeto(new_name,overwrite=True)\n",
    "\n",
    "    except Exception as e:\n",
    "        print(e)"
   ]
  },
  {
   "cell_type": "markdown",
   "id": "f600423b",
   "metadata": {},
   "source": []
  },
  {
   "cell_type": "markdown",
   "id": "be7b436c",
   "metadata": {},
   "source": [
    "\"get_filtered_image_data\" é utilizada para obter a lol com os valores dos pontos quentes alterados para mediana dos valores vizinhos. Esta função é auxiliar à função seguinte."
   ]
  },
  {
   "cell_type": "code",
   "execution_count": null,
   "id": "86821176",
   "metadata": {},
   "outputs": [],
   "source": [
    "def get_filtered_image_data(hdu_data, hot_pixels, raio):\n",
    "    a = np.copy(hdu_data)     #Cria uma cópia dos valores da imagem\n",
    "    x_res,y_res = a.shape     #Dimensões do aray\n",
    "    for k in hot_pixels:\n",
    "        line = k[0]\n",
    "        collumn = k[1]\n",
    "        vizinhos = []         #Inicializa um array vazio para representar a vizinhança.\n",
    "        #Percorrre a vizinhança\n",
    "        for i in range(-raio, raio+1):\n",
    "            for j in range(-raio, raio+1):\n",
    "                    #Estas condições lógicas garantem que não se sai do alcança da lol e que o próprio pixel quente não é tratado como seu vizinho\n",
    "                    if ((line+i>=0 and collumn+j>=0 and line+i<x_res and collumn+j<y_res) and (not(i==0 and j==0))):\n",
    "                        vizinhos.append(a[line+i][collumn+j]) #Caso faça parte da vizinhança acrescenta à lista desta\n",
    "\n",
    "        vizinhos = np.array(vizinhos) #transforma num numpy array\n",
    "        mediana = np.median(vizinhos) #calcula a mediana dos valores vizinhos\n",
    "\n",
    "        a[line][collumn] = mediana #substitui o valor do pixel quente pela mediana dos valores vizinhos\n",
    "\n",
    "    return a"
   ]
  },
  {
   "cell_type": "markdown",
   "id": "19daad4f",
   "metadata": {},
   "source": []
  },
  {
   "cell_type": "markdown",
   "id": "7c471885",
   "metadata": {},
   "source": [
    "A função \"get_ADA_HV\" é uma função axiliar de \"plot_ADA\" que devolve a tupla (médias das diferenças absolutas, valores dos pixeis quentes). Estes valores são depois utilizados na função apresentada após esta."
   ]
  },
  {
   "cell_type": "code",
   "execution_count": null,
   "id": "7cce31d5",
   "metadata": {},
   "outputs": [],
   "source": [
    "def get_ADA_HV(hdu, hot_pixels, raio):\n",
    "    a = np.copy(hdu[\"PRIMARY\"].data)    #Cria uma cópia dos valores da imagem\n",
    "    abs_diff_average = []               #Inicializa uma lista vazia para armazenar as médias das das diferenças absolutas\n",
    "    hotpixels_values = []               #Inicializa uma lista vazia para armazenar os valores dos pixeis quentes\n",
    "    for k in hot_pixels:\n",
    "        line = k[0]\n",
    "        collumn = k[1]\n",
    "        hotpixels_values.append(a[line][collumn]) #Adiciona o valor do pixel quente à lista que armazena os valores dos pixeis quentes\n",
    "        total = 0\n",
    "        n_vizinhos = 0\n",
    "        #Precorre a vizinhança\n",
    "        for i in range(-raio, raio+1):\n",
    "            for j in range(-raio, raio+1):\n",
    "                    #Estas condições lógicas garantem que não se sai do alcança da lol e que o próprio pixel quente não é tratado como seu vizinho\n",
    "                    if ((line+i>=0 and collumn+j>=0 and line+i<len(a) and collumn+j<len(a[0])) and (not(i==0 and j==0))):\n",
    "                        total += abs(a[line][collumn] - a[line+i][collumn+j]) #Calcula a diferença absoluta\n",
    "                        n_vizinhos += 1 #Monotoriza o número dos vizinhos\n",
    "        abs_diff_average.append(total/n_vizinhos) #Calcula a média das diferenças absolutas da vizinhança\n",
    "\n",
    "    return abs_diff_average, hotpixels_values"
   ]
  },
  {
   "cell_type": "markdown",
   "id": "1b0e9fb1",
   "metadata": {},
   "source": []
  },
  {
   "cell_type": "markdown",
   "id": "985cfdb5",
   "metadata": {},
   "source": [
    "Esta função axiliar à função \"plot_ADA\" cria o scatter plot para representar gráficamente a relação entre os valores dos pontos quentes e a média da diferença absoluta entre os pontos quentes e os seus vizinhos."
   ]
  },
  {
   "cell_type": "code",
   "execution_count": null,
   "id": "49a080b0",
   "metadata": {},
   "outputs": [],
   "source": [
    "def scatter_plot(hotpixels_values,average_abs_diff, k):\n",
    "    plt.scatter(hotpixels_values,average_abs_diff)\n",
    "    plt.xlabel('Hot values')\n",
    "    plt.ylabel('Absolute difference average')\n",
    "    plt.title(\"K = {}\".format(k))\n",
    "    plt.show()"
   ]
  },
  {
   "cell_type": "markdown",
   "id": "3b1cf1bc",
   "metadata": {},
   "source": []
  },
  {
   "cell_type": "markdown",
   "id": "bdb0a100",
   "metadata": {},
   "source": [
    "Função principal que combina as auxiliares \"get_ADA_HV\" e \"scatter_plot\" para garantir o bom funcionamento da representação gráfica da relação entre os valores dos pontos quentes e a média da diferença absoluta entre estes e os seus vizinhos."
   ]
  },
  {
   "cell_type": "code",
   "execution_count": null,
   "id": "8ed7f031",
   "metadata": {},
   "outputs": [],
   "source": [
    "def plot_ADA(hdu, darkframe, multiplicadores= [0, 0.5, 1, 1.5, 2, 2.5, 3],raio=1):\n",
    "    for i in multiplicadores:\n",
    "        #calcular hot_pixels\n",
    "        darkframe_copy = np.copy(darkframe[\"PRIMARY\"].data)\n",
    "        limit = np.mean(darkframe_copy) + i*np.std(darkframe_copy)\n",
    "        hot_pixels = get_hotpixels(darkframe, limit)\n",
    "\n",
    "        avg, hot_values = get_ADA_HV(hdu, hot_pixels, raio) #Obtem os AVG e os valores dos hot_pixels para cada multiplicador\n",
    "        scatter_plot(hot_values,avg, i)"
   ]
  },
  {
   "cell_type": "markdown",
   "id": "9cc20c62",
   "metadata": {},
   "source": []
  },
  {
   "cell_type": "markdown",
   "id": "f527b0ec",
   "metadata": {},
   "source": [
    "Esta função utiliza \"get_filtered_image_data\" de forma a criar varias imagens alteradas de forma as utilizar para fazer um \"stacking\", que se trata de fazer a média dos dados das lol das imagens."
   ]
  },
  {
   "cell_type": "code",
   "execution_count": null,
   "id": "03294de7",
   "metadata": {},
   "outputs": [],
   "source": [
    "def get_stacked_image(darkframe, imgs_direct, std_mult=2, raio=1):\n",
    "    print(f\"Multiplicador de desvio = {std_mult}\")\n",
    "    print(f\"Raio = {raio}\")\n",
    "    #calcular hot_pixels\n",
    "    darkframe_data = np.copy(darkframe[\"PRIMARY\"].data)\n",
    "    limit = np.mean(darkframe_data) + std_mult*np.std(darkframe_data)\n",
    "    hot_pixels = get_hotpixels(darkframe, limit)\n",
    "\n",
    "    imgs = glob.glob(imgs_direct+\"*.fits\") #Obter lista com o path das imagens\n",
    "    final_image = np.zeros(shape=darkframe_data.shape, dtype=darkframe_data.dtype) #Inicializa o np.array que vai acumular os valores das várias imagens\n",
    "    for img in imgs:\n",
    "        with fits.open(img) as image:\n",
    "            print(f\"A processar {img}...\")\n",
    "            final_image += get_filtered_image_data(image[\"PRIMARY\"].data, hot_pixels, raio) #Adicionar a final_image os valores de cada imagem filtrada\n",
    "    final_image = final_image//len(imgs) #Calcular a media de todas as imagens filtradas\n",
    "    #Guardar os dados num ficherio fits\n",
    "    hdu = fits.PrimaryHDU(final_image)\n",
    "    hdu.writeto(imgs_direct+\"stacked.fits\", overwrite=True)"
   ]
  },
  {
   "cell_type": "markdown",
   "id": "060f16f0",
   "metadata": {},
   "source": []
  },
  {
   "cell_type": "markdown",
   "id": "09b95d92",
   "metadata": {},
   "source": [
    "O objetivo desta função é explorar uma forma de, a partir de uma lista inicial de possíveis pontos quentes, de acordo com um determinado critério, identificar os pixeis com maior probabilidade de serem um ponto quente."
   ]
  },
  {
   "cell_type": "code",
   "execution_count": null,
   "id": "e5de7849",
   "metadata": {},
   "outputs": [],
   "source": [
    "def get_true_hotpixels(hdul, hot_pixels, media, desvio, raio=1):\n",
    "    a = np.copy(hdul[\"PRIMARY\"].data)\n",
    "    true_hotpixels = []\n",
    "    for k in hot_pixels:\n",
    "        line = k[0]\n",
    "        collumn = k[1]\n",
    "        total = 0\n",
    "        n_vizinhos = 0\n",
    "        for i in range(-raio, raio+1):\n",
    "            for j in range(-raio, raio+1):\n",
    "                    if ((line+i>=0 and collumn+j>=0 and line+i<len(a) and collumn+j<len(a[0])) and (not(i==0 and j==0))):\n",
    "                        total += abs(a[line][collumn] - a[line+i][collumn+j])\n",
    "                        n_vizinhos += 1\n",
    "        ADA = total/n_vizinhos\n",
    "        if ADA >= (media - desvio):\n",
    "            true_hotpixels.append([line,collumn])\n",
    "\n",
    "    true_hotpixels = np.array(true_hotpixels)\n",
    "\n",
    "    return true_hotpixels"
   ]
  },
  {
   "cell_type": "markdown",
   "id": "42702e4e",
   "metadata": {},
   "source": []
  },
  {
   "cell_type": "markdown",
   "id": "48b3cb8c",
   "metadata": {},
   "source": [
    "Aplica \"gamma correction\" a uma imagem."
   ]
  },
  {
   "cell_type": "code",
   "execution_count": null,
   "id": "70839d52",
   "metadata": {},
   "outputs": [],
   "source": [
    "def gammaCorrection(hdu, gamma=0.4):\n",
    "    data = np.copy(hdu[\"PRIMARY\"].data)\n",
    "    for line in data:\n",
    "        for pixel in line:\n",
    "            pixel = data.max() * (pixel / data.max()) ** (1/gamma)\n",
    "    return data"
   ]
  },
  {
   "cell_type": "markdown",
   "id": "b9af95dc",
   "metadata": {},
   "source": []
  },
  {
   "cell_type": "markdown",
   "id": "a668090b",
   "metadata": {},
   "source": [
    "Aplica \"Histogram spreading\" a uma imagem."
   ]
  },
  {
   "cell_type": "code",
   "execution_count": null,
   "id": "fc32d6d6",
   "metadata": {},
   "outputs": [],
   "source": [
    "def histogramSpread(hdu, blackPoint=0, whitePoint=65535):\n",
    "    data = np.copy(hdu[\"PRIMARY\"].data)\n",
    "    for line in data:\n",
    "        for pixel in line:\n",
    "            if (pixel < blackPoint):\n",
    "                z = 0\n",
    "            elif (pixel > whitePoint):\n",
    "                z = 1\n",
    "            else:\n",
    "                z = (pixel - blackPoint)  / (whitePoint - pixel)\n",
    "            pixel = z * data.max()\n",
    "    return data"
   ]
  },
  {
   "cell_type": "markdown",
   "id": "4d41e7d2",
   "metadata": {},
   "source": []
  },
  {
   "cell_type": "markdown",
   "id": "828dfc3a",
   "metadata": {},
   "source": [
    "# Exemplos de utilização"
   ]
  },
  {
   "cell_type": "code",
   "execution_count": null,
   "id": "9aa16d8e",
   "metadata": {},
   "outputs": [],
   "source": [
    "from astropy.io import fits\n",
    "import numpy as np\n",
    "import matplotlib.pyplot as plt\n",
    "from os.path import exists\n",
    "import sys\n",
    "import glob\n",
    "import functions        "
   ]
  },
  {
   "cell_type": "code",
   "execution_count": null,
   "id": "206a580d",
   "metadata": {},
   "outputs": [],
   "source": [
    "#Remoção de pixeis quentes de uma imagem \n",
    "with fits.open(sys.argv[1]) as darkframe:\n",
    "    with fits.open(sys.argv[2]) as hdul:\n",
    "            darkframe_data = np.copy(darkframe[\"PRIMARY\"].data)\n",
    "            limit = np.mean(darkframe_data) + 2*np.std(darkframe_data)\n",
    "            hot_pixels = get_hotpixels(darkframe, limit)\n",
    "            functions.remove_hotpixels(hdul, hot_pixels, raio=2)"
   ]
  },
  {
   "cell_type": "code",
   "execution_count": null,
   "id": "e4d913e5",
   "metadata": {},
   "outputs": [],
   "source": [
    "#Representação gráfica da relação entre os valores dos pontos quentes e a média da diferença absoluta entre os pontos quentes e os seus vizinhos.\n",
    "with fits.open(sys.argv[1]) as darkframe:\n",
    "        with fits.open(sys.argv[2]) as hdu:\n",
    "            functions.plot_ADA(hdu, darkframe, multiplicadores=[0, 0.5, 1, 1.5, 2, 2.5, 3],raio=2)"
   ]
  }
 ],
 "metadata": {
  "kernelspec": {
   "display_name": "Python 3 (ipykernel)",
   "language": "python",
   "name": "python3"
  },
  "language_info": {
   "codemirror_mode": {
    "name": "ipython",
    "version": 3
   },
   "file_extension": ".py",
   "mimetype": "text/x-python",
   "name": "python",
   "nbconvert_exporter": "python",
   "pygments_lexer": "ipython3",
   "version": "3.8.5"
  }
 },
 "nbformat": 4,
 "nbformat_minor": 5
}
