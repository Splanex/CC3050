{
 "cells": [
  {
   "cell_type": "markdown",
   "id": "94f79b92",
   "metadata": {},
   "source": [
    "# Code breakdown (por melhorar)"
   ]
  },
  {
   "cell_type": "markdown",
   "id": "e4cf80e4",
   "metadata": {},
   "source": [
    "A implementação deste projeto é fortemente dependente das bibliotecas \"astropy\" e \"numpy\". Recorrendo a estas de forma a poder aceder e manipular ficheiros fits e facilitar a execução de cálculos de matrizes, respetivamente.\n",
    "\n",
    "As bibliotecas \"os\" e \"sys\" são bibliotecas auxiliares. "
   ]
  },
  {
   "cell_type": "code",
   "execution_count": 6,
   "id": "17024db5",
   "metadata": {},
   "outputs": [],
   "source": [
    "from astropy.io import fits\n",
    "import numpy as np\n",
    "from os.path import exists\n",
    "import sys"
   ]
  },
  {
   "cell_type": "markdown",
   "id": "d9fe8e98",
   "metadata": {},
   "source": [
    "A função \"usage\" é chamada em determinadas partes do programa para esclarecer o utilizador sobre o uso do programa."
   ]
  },
  {
   "cell_type": "code",
   "execution_count": 9,
   "id": "db28f795",
   "metadata": {},
   "outputs": [],
   "source": [
    "def usage():\n",
    "    print(\"\"\"\n",
    "Usage:\n",
    "     -f   Indica o ficheiro dark frame a utilizar para criar o mapa de pixeis quentes.\n",
    "     -t   Indica o ficheiro dark frame a utilizar para criar o mapa e é aplicada a máscara a este ficheiro.\n",
    "     -d   Indica o diretorio com os ficheiros dark frame a utilizar na criação de mapas.\n",
    "     -dt  Mesma função que \"-t\" mas para um diretorio de ficheiros.\n",
    "     -i   Cria a imagem invertida.\n",
    "     -m   Aplica a \"mascara\", removendo os pixeis quentes.\n",
    "\n",
    "Examples: python main.py -f inputFile\n",
    "          python main.py -t inputFile\n",
    "          python main.py -d inputDirectory\n",
    "          python main.py -dt inputDirectory\n",
    "          python main.py -i inputFile\n",
    "          python main.py -m darkframe originalfile\n",
    "    \"\"\")\n",
    "    sys.exit()"
   ]
  },
  {
   "cell_type": "code",
   "execution_count": 10,
   "id": "a937f132",
   "metadata": {},
   "outputs": [
    {
     "name": "stdout",
     "output_type": "stream",
     "text": [
      "\n",
      "Usage:\n",
      "     -f   Indica o ficheiro dark frame a utilizar para criar o mapa.\n",
      "     -d   Indica o diretorio com os ficheiros dark frame a utilizar na criação do mapa.\n",
      "     -i   Cria a imagem invertida.\n",
      "     -m   Aplica a \"mascara\", removendo os pixeis quentes.\n",
      "\n",
      "Examples: python main.py -f inputFile\n",
      "          python main.py -t inputFile\n",
      "          python main.py -d inputDirectory\n",
      "          python main.py -dt inputDirectory\n",
      "          python main.py -i inputFile\n",
      "          python main.py -m darkframe originalfile\n",
      "    \n"
     ]
    },
    {
     "ename": "SystemExit",
     "evalue": "",
     "output_type": "error",
     "traceback": [
      "An exception has occurred, use %tb to see the full traceback.\n",
      "\u001b[0;31mSystemExit\u001b[0m\n"
     ]
    }
   ],
   "source": [
    "usage()"
   ]
  },
  {
   "cell_type": "markdown",
   "id": "38f8fe27",
   "metadata": {},
   "source": [
    "A seguinte função é utilizada para gerar um nome único para um novo ficheiro a ser gerado."
   ]
  },
  {
   "cell_type": "code",
   "execution_count": 20,
   "id": "ab93dd62",
   "metadata": {},
   "outputs": [],
   "source": [
    "def name_gen(file_name):\n",
    "    i=0\n",
    "    check_name = file_name\n",
    "    while exists(check_name):\n",
    "        i+=1\n",
    "        check_name = file_name[:-4]+\"_new\"+str(i)+\".txt\"\n",
    "    print(f\"Novo ficheiro gerado: {check_name}\")\n",
    "    return check_name"
   ]
  },
  {
   "cell_type": "code",
   "execution_count": 21,
   "id": "bdbbd8ec",
   "metadata": {
    "scrolled": true
   },
   "outputs": [
    {
     "name": "stdout",
     "output_type": "stream",
     "text": [
      "Novo ficheiro gerado: rascunho._new1.txt\n"
     ]
    },
    {
     "data": {
      "text/plain": [
       "'rascunho._new1.txt'"
      ]
     },
     "execution_count": 21,
     "metadata": {},
     "output_type": "execute_result"
    }
   ],
   "source": [
    "name_gen(\"rascunho.fits\")"
   ]
  },
  {
   "cell_type": "markdown",
   "id": "371046d7",
   "metadata": {},
   "source": [
    "\"inverted\" utiliza uma HDU (Header Data Unit) e cria um novo ficheiro, com o apoio da função demostrada anteriormente, com os valores invertidos."
   ]
  },
  {
   "cell_type": "code",
   "execution_count": null,
   "id": "1eed91f4",
   "metadata": {},
   "outputs": [],
   "source": [
    "def inverted(hdu):\n",
    "    file_name = hdu.filename()\n",
    "    new_name = name_gen(file_name)\n",
    "    n_array = np.full_like(hdu[0].data, 65535)\n",
    "    n_array -= hdu[0].data\n",
    "    hdu[\"PRIMARY\"].data = n_array\n",
    "    try:\n",
    "        hdu.writeto(new_name)\n",
    "    except Exception as e:\n",
    "        print(e)"
   ]
  },
  {
   "cell_type": "markdown",
   "id": "339e51fc",
   "metadata": {},
   "source": [
    "Esta função é crítica para o funcionamento do programa, servindo como função auxiliar da função principal \"remove_hotpixels\".\n",
    "\n",
    "A função \"argwhere\" da biblioteca \"numpy\" cria uma lol (list of lists) que contem as coordenadas de todos os elementos de um lista/lol que respeitam uma determinada condição. Neste caso, argwhere retorna uma lol com as coordenadas de todos os elementos da matriz de dados de uma HDU com valor superior a limit.\n",
    "\n",
    "No contexto deste programa esta função tem como objetivo mapear os pixeis quentes (dai o seu nome) numa imagem fits."
   ]
  },
  {
   "cell_type": "code",
   "execution_count": null,
   "id": "74e63fa2",
   "metadata": {},
   "outputs": [],
   "source": [
    "def get_hotpixels(hdul, limit):\n",
    "    data = hdul[\"PRIMARY\"].data\n",
    "    return np.argwhere(data >= limit)"
   ]
  },
  {
   "cell_type": "code",
   "execution_count": 32,
   "id": "9b3697a0",
   "metadata": {},
   "outputs": [
    {
     "name": "stdout",
     "output_type": "stream",
     "text": [
      "[[0 1]\n",
      " [0 3]\n",
      " [0 4]\n",
      " [2 0]]\n",
      "5\n",
      "6\n",
      "11\n",
      "19\n"
     ]
    }
   ],
   "source": [
    "#EXEMPLO\n",
    "data = [[1,5,3,6,11],\n",
    "        [2,4,2,3,3],\n",
    "        [19,0,-3, 4,4]]\n",
    "data = np.array(data)\n",
    "\n",
    "coords = np.argwhere(data >= 5)\n",
    "print(coords)\n",
    "for i,j in coords:\n",
    "    print(data[i][j])"
   ]
  },
  {
   "cell_type": "markdown",
   "id": "e70e9dd8",
   "metadata": {},
   "source": [
    "A função \"remove_hotpixels\" é, no momento, a função principal do programa, responsável por trocar o valor dos pixeis quentes pela mediana dos valores vizinhos.\n",
    "De maneira a alcançar este objetivo ela utiliza os resultados obtidos pela função auxiliar \"get_hotpixels\""
   ]
  },
  {
   "cell_type": "code",
   "execution_count": null,
   "id": "746c7c81",
   "metadata": {},
   "outputs": [],
   "source": [
    "def remove_hotpixels(hdu, hot_pixels):\n",
    "\n",
    "    a = hdu[\"PRIMARY\"].data\n",
    "    for k in hot_pixels:\n",
    "        line = k[0]\n",
    "        collumn = k[1]\n",
    "        vizinhos = []\n",
    "        for i in range(-1,2):\n",
    "            for j in range(-1,2):\n",
    "                    if ((line+i>=0 and collumn+j>=0 and line+i<len(a) and collumn+j<len(a[0])) and (not(i==0 and j==0))):\n",
    "                        vizinhos.append(a[line+i][collumn+j])\n",
    "\n",
    "        vizinhos = np.array(vizinhos)\n",
    "        mediana = np.median(vizinhos)\n",
    "\n",
    "        hdu[\"PRIMARY\"].data[line][collumn] = mediana\n",
    "\n",
    "    file_name = hdu.filename()\n",
    "    new_name = name_gen(file_name)\n",
    "\n",
    "    try:\n",
    "        hdu.writeto(new_name)\n",
    "    except Exception as e:\n",
    "        print(e)"
   ]
  },
  {
   "cell_type": "markdown",
   "id": "e2a25d2b",
   "metadata": {},
   "source": [
    "A próxima função controla a forma como o programa funciona de acordo com os interesses do utilizador.\n",
    "\n",
    "A primeira condição lógica (1) garante que na linha de input é escolhido um método de comportamento. Caso isto nao se verifique é chamada a função \"usage\" (2).\n",
    "\n",
    "As restantes condições servem para identificar o método escolhido e agir de acordo com tal."
   ]
  },
  {
   "cell_type": "code",
   "execution_count": null,
   "id": "58914fc7",
   "metadata": {},
   "outputs": [],
   "source": [
    "def main():\n",
    "\n",
    "    options = [\"-f\", \"-d\", \"-i\", \"-m\", \"-dt\", \"-t\"]\n",
    "\n",
    "    if len(sys.argv) > 1 and sys.argv[1] in options:\n",
    "    (1)\n",
    "        if sys.argv[1] == \"-f\" or sys.argv[1] == \"-d\":\n",
    "        (1.1)\n",
    "            if sys.argv[1] == \"-f\":\n",
    "            a)\n",
    "                with fits.open(sys.argv[1]) as hdul:\n",
    "                    x_res,y_res = hdul[\"PRIMARY\"].data.shape\n",
    "                    n_pixels = x_res * y_res\n",
    "                    limit = np.mean(hdul[\"PRIMARY\"].data + 2*np.std(hdul[\"PRIMARY\"].data))\n",
    "                    hot_pixels = get_hotpixels(hdul, limit)\n",
    "                    remove_hotpixels(hdul, hot_pixels)\n",
    "                    print(f\"{((len(hot_pixels)/n_pixels)*100):.2f}%\")\n",
    "                    hdul.close()\n",
    "            else:\n",
    "            b)\n",
    "                pass\n",
    "\n",
    "        elif sys.argv[1] == \"-i\":\n",
    "        (1.2)\n",
    "            with fits.open(sys.argv[1]) as hdul:\n",
    "                inverted(hdul)\n",
    "                hdul.close()\n",
    "\n",
    "        elif sys.argv[1] == \"-m\":\n",
    "        (1.3)\n",
    "            with fits.open(sys.argv[3]) as hdul:\n",
    "                with fits.open(sys.argv[2]) as darkframe:\n",
    "                    limit = np.mean(darkframe[\"PRIMARY\"].data + 2*np.std(darkframe[\"PRIMARY\"].data))\n",
    "                    hot_pixels = get_hotpixels(darkframe, limit)\n",
    "                    remove_hotpixels(hdul, hot_pixels)\n",
    "                hdul.close()\n",
    "\n",
    "        elif sys.argv[1] == \"-dt\":\n",
    "        (1.4)\n",
    "            pass\n",
    "\n",
    "        else:\n",
    "        (1.5)\n",
    "            with fits.open(sys.argv[2]) as hdul: # -t\n",
    "                x_res,y_res = hdul[\"PRIMARY\"].data.shape\n",
    "                n_pixels = x_res * y_res\n",
    "                limit = np.mean(hdul[\"PRIMARY\"].data + 1.5*np.std(hdul[\"PRIMARY\"].data))\n",
    "                hot_pixels = get_hotpixels(hdul, limit)\n",
    "                remove_hotpixels(hdul,hot_pixels)\n",
    "                hdul.close()\n",
    "    (2)\n",
    "    else:\n",
    "        usage()"
   ]
  }
 ],
 "metadata": {
  "kernelspec": {
   "display_name": "Python 3 (ipykernel)",
   "language": "python",
   "name": "python3"
  },
  "language_info": {
   "codemirror_mode": {
    "name": "ipython",
    "version": 3
   },
   "file_extension": ".py",
   "mimetype": "text/x-python",
   "name": "python",
   "nbconvert_exporter": "python",
   "pygments_lexer": "ipython3",
   "version": "3.8.5"
  }
 },
 "nbformat": 4,
 "nbformat_minor": 5
}
